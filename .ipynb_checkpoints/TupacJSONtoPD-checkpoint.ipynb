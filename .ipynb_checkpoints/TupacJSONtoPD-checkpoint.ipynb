{
 "cells": [
  {
   "cell_type": "code",
   "execution_count": 50,
   "metadata": {},
   "outputs": [],
   "source": [
    "import json\n",
    "import pandas as pd\n",
    "import os"
   ]
  },
  {
   "cell_type": "code",
   "execution_count": 53,
   "metadata": {},
   "outputs": [
    {
     "data": {
      "text/html": [
       "<div>\n",
       "<style scoped>\n",
       "    .dataframe tbody tr th:only-of-type {\n",
       "        vertical-align: middle;\n",
       "    }\n",
       "\n",
       "    .dataframe tbody tr th {\n",
       "        vertical-align: top;\n",
       "    }\n",
       "\n",
       "    .dataframe thead th {\n",
       "        text-align: right;\n",
       "    }\n",
       "</style>\n",
       "<table border=\"1\" class=\"dataframe\">\n",
       "  <thead>\n",
       "    <tr style=\"text-align: right;\">\n",
       "      <th></th>\n",
       "      <th>artist</th>\n",
       "      <th>title</th>\n",
       "      <th>album</th>\n",
       "      <th>releasedate</th>\n",
       "      <th>lyrics</th>\n",
       "    </tr>\n",
       "  </thead>\n",
       "  <tbody>\n",
       "    <tr>\n",
       "      <td>0</td>\n",
       "      <td>2Pac</td>\n",
       "      <td>16 on Death Row</td>\n",
       "      <td>R U Still Down? (Remember Me)</td>\n",
       "      <td>1997-11-25</td>\n",
       "      <td>[Intro]\\nDeath Row\\nThat's where mothafuckas i...</td>\n",
       "    </tr>\n",
       "  </tbody>\n",
       "</table>\n",
       "</div>"
      ],
      "text/plain": [
       "  artist            title                          album releasedate  \\\n",
       "0   2Pac  16 on Death Row  R U Still Down? (Remember Me)  1997-11-25   \n",
       "\n",
       "                                              lyrics  \n",
       "0  [Intro]\\nDeath Row\\nThat's where mothafuckas i...  "
      ]
     },
     "execution_count": 53,
     "metadata": {},
     "output_type": "execute_result"
    }
   ],
   "source": [
    "'''Open first json file and make a dataframe in pandas'''\n",
    "with open('./2Pac_songs/lyrics_2pac_16ondeathrow.json') as json_data:\n",
    "    data = json.load(json_data)\n",
    "\n",
    "table1 = pd.DataFrame([[data['artist'], data['songs'][0]['title'], data['songs'][0]['album'], data['songs'][0]['year'], data['songs'][0]['lyrics']]], columns = ['artist', 'title', 'album', 'releasedate', 'lyrics'])\n",
    "\n",
    "table1"
   ]
  },
  {
   "cell_type": "code",
   "execution_count": 55,
   "metadata": {},
   "outputs": [
    {
     "data": {
      "text/html": [
       "<div>\n",
       "<style scoped>\n",
       "    .dataframe tbody tr th:only-of-type {\n",
       "        vertical-align: middle;\n",
       "    }\n",
       "\n",
       "    .dataframe tbody tr th {\n",
       "        vertical-align: top;\n",
       "    }\n",
       "\n",
       "    .dataframe thead th {\n",
       "        text-align: right;\n",
       "    }\n",
       "</style>\n",
       "<table border=\"1\" class=\"dataframe\">\n",
       "  <thead>\n",
       "    <tr style=\"text-align: right;\">\n",
       "      <th></th>\n",
       "      <th>artist</th>\n",
       "      <th>title</th>\n",
       "      <th>album</th>\n",
       "      <th>releasedate</th>\n",
       "      <th>lyrics</th>\n",
       "    </tr>\n",
       "  </thead>\n",
       "  <tbody>\n",
       "    <tr>\n",
       "      <td>0</td>\n",
       "      <td>2Pac</td>\n",
       "      <td>All Eyez on Me</td>\n",
       "      <td>All Eyez on Me</td>\n",
       "      <td>1996-02-13</td>\n",
       "      <td>[Intro: 2Pac]\\nBig Syke, Newt, Hank, Beugard, ...</td>\n",
       "    </tr>\n",
       "  </tbody>\n",
       "</table>\n",
       "</div>"
      ],
      "text/plain": [
       "  artist           title           album releasedate  \\\n",
       "0   2Pac  All Eyez on Me  All Eyez on Me  1996-02-13   \n",
       "\n",
       "                                              lyrics  \n",
       "0  [Intro: 2Pac]\\nBig Syke, Newt, Hank, Beugard, ...  "
      ]
     },
     "execution_count": 55,
     "metadata": {},
     "output_type": "execute_result"
    }
   ],
   "source": [
    "'''Open another json file and make a dataframe in pandas'''\n",
    "with open('./2Pac_songs/lyrics_2pac_alleyezonme.json') as json_data:\n",
    "    data = json.load(json_data)\n",
    "\n",
    "table2 = pd.DataFrame([[data['artist'], data['songs'][0]['title'], data['songs'][0]['album'], data['songs'][0]['year'], data['songs'][0]['lyrics']]], columns = ['artist', 'title', 'album', 'releasedate', 'lyrics'])\n",
    "\n",
    "table2"
   ]
  },
  {
   "cell_type": "code",
   "execution_count": 61,
   "metadata": {},
   "outputs": [
    {
     "data": {
      "text/html": [
       "<div>\n",
       "<style scoped>\n",
       "    .dataframe tbody tr th:only-of-type {\n",
       "        vertical-align: middle;\n",
       "    }\n",
       "\n",
       "    .dataframe tbody tr th {\n",
       "        vertical-align: top;\n",
       "    }\n",
       "\n",
       "    .dataframe thead th {\n",
       "        text-align: right;\n",
       "    }\n",
       "</style>\n",
       "<table border=\"1\" class=\"dataframe\">\n",
       "  <thead>\n",
       "    <tr style=\"text-align: right;\">\n",
       "      <th></th>\n",
       "      <th>artist</th>\n",
       "      <th>title</th>\n",
       "      <th>album</th>\n",
       "      <th>releasedate</th>\n",
       "      <th>lyrics</th>\n",
       "    </tr>\n",
       "  </thead>\n",
       "  <tbody>\n",
       "    <tr>\n",
       "      <td>0</td>\n",
       "      <td>2Pac</td>\n",
       "      <td>16 on Death Row</td>\n",
       "      <td>R U Still Down? (Remember Me)</td>\n",
       "      <td>1997-11-25</td>\n",
       "      <td>[Intro]\\nDeath Row\\nThat's where mothafuckas i...</td>\n",
       "    </tr>\n",
       "    <tr>\n",
       "      <td>0</td>\n",
       "      <td>2Pac</td>\n",
       "      <td>All Eyez on Me</td>\n",
       "      <td>All Eyez on Me</td>\n",
       "      <td>1996-02-13</td>\n",
       "      <td>[Intro: 2Pac]\\nBig Syke, Newt, Hank, Beugard, ...</td>\n",
       "    </tr>\n",
       "  </tbody>\n",
       "</table>\n",
       "</div>"
      ],
      "text/plain": [
       "  artist            title                          album releasedate  \\\n",
       "0   2Pac  16 on Death Row  R U Still Down? (Remember Me)  1997-11-25   \n",
       "0   2Pac   All Eyez on Me                 All Eyez on Me  1996-02-13   \n",
       "\n",
       "                                              lyrics  \n",
       "0  [Intro]\\nDeath Row\\nThat's where mothafuckas i...  \n",
       "0  [Intro: 2Pac]\\nBig Syke, Newt, Hank, Beugard, ...  "
      ]
     },
     "execution_count": 61,
     "metadata": {},
     "output_type": "execute_result"
    }
   ],
   "source": [
    "'''Combine table1 and table2'''\n",
    "tablefull = table1.append(table2)\n",
    "\n",
    "tablefull"
   ]
  },
  {
   "cell_type": "code",
   "execution_count": 52,
   "metadata": {},
   "outputs": [
    {
     "data": {
      "text/html": [
       "<div>\n",
       "<style scoped>\n",
       "    .dataframe tbody tr th:only-of-type {\n",
       "        vertical-align: middle;\n",
       "    }\n",
       "\n",
       "    .dataframe tbody tr th {\n",
       "        vertical-align: top;\n",
       "    }\n",
       "\n",
       "    .dataframe thead th {\n",
       "        text-align: right;\n",
       "    }\n",
       "</style>\n",
       "<table border=\"1\" class=\"dataframe\">\n",
       "  <thead>\n",
       "    <tr style=\"text-align: right;\">\n",
       "      <th></th>\n",
       "      <th>artist</th>\n",
       "      <th>title</th>\n",
       "      <th>album</th>\n",
       "      <th>releasedate</th>\n",
       "      <th>lyrics</th>\n",
       "    </tr>\n",
       "  </thead>\n",
       "  <tbody>\n",
       "    <tr>\n",
       "      <td>0</td>\n",
       "      <td>2Pac</td>\n",
       "      <td>16 on Death Row</td>\n",
       "      <td>R U Still Down? (Remember Me)</td>\n",
       "      <td>1997-11-25</td>\n",
       "      <td>[Intro]\\nDeath Row\\nThat's where mothafuckas i...</td>\n",
       "    </tr>\n",
       "  </tbody>\n",
       "</table>\n",
       "</div>"
      ],
      "text/plain": [
       "  artist            title                          album releasedate  \\\n",
       "0   2Pac  16 on Death Row  R U Still Down? (Remember Me)  1997-11-25   \n",
       "\n",
       "                                              lyrics  \n",
       "0  [Intro]\\nDeath Row\\nThat's where mothafuckas i...  "
      ]
     },
     "execution_count": 52,
     "metadata": {},
     "output_type": "execute_result"
    }
   ],
   "source": [
    "'''Open each other json file and append that data into original dataframe'''\n",
    "for song in os.listdir(path = '2Pac_songs'):\n",
    "    if song == '*.json':\n",
    "        with open('./2Pac_songs/' + song) as song_file:\n",
    "            data = json.load(song_file)\n",
    "            table_song = pd.DataFrame([[data['artist'], data['songs'][0]['title'], data['songs'][0]['album'], data['songs'][0]['year'], data['songs'][0]['lyrics']]], columns = ['artist', 'title', 'album', 'releasedate', 'lyrics'])\n",
    "            table1.append(table_song)\n",
    "            \n",
    "table_song       "
   ]
  },
  {
   "cell_type": "code",
   "execution_count": 58,
   "metadata": {},
   "outputs": [
    {
     "data": {
      "text/html": [
       "<div>\n",
       "<style scoped>\n",
       "    .dataframe tbody tr th:only-of-type {\n",
       "        vertical-align: middle;\n",
       "    }\n",
       "\n",
       "    .dataframe tbody tr th {\n",
       "        vertical-align: top;\n",
       "    }\n",
       "\n",
       "    .dataframe thead th {\n",
       "        text-align: right;\n",
       "    }\n",
       "</style>\n",
       "<table border=\"1\" class=\"dataframe\">\n",
       "  <thead>\n",
       "    <tr style=\"text-align: right;\">\n",
       "      <th></th>\n",
       "      <th>artist</th>\n",
       "      <th>title</th>\n",
       "      <th>album</th>\n",
       "      <th>releasedate</th>\n",
       "      <th>lyrics</th>\n",
       "    </tr>\n",
       "  </thead>\n",
       "  <tbody>\n",
       "    <tr>\n",
       "      <td>0</td>\n",
       "      <td>2Pac</td>\n",
       "      <td>16 on Death Row</td>\n",
       "      <td>R U Still Down? (Remember Me)</td>\n",
       "      <td>1997-11-25</td>\n",
       "      <td>[Intro]\\nDeath Row\\nThat's where mothafuckas i...</td>\n",
       "    </tr>\n",
       "  </tbody>\n",
       "</table>\n",
       "</div>"
      ],
      "text/plain": [
       "  artist            title                          album releasedate  \\\n",
       "0   2Pac  16 on Death Row  R U Still Down? (Remember Me)  1997-11-25   \n",
       "\n",
       "                                              lyrics  \n",
       "0  [Intro]\\nDeath Row\\nThat's where mothafuckas i...  "
      ]
     },
     "execution_count": 58,
     "metadata": {},
     "output_type": "execute_result"
    }
   ],
   "source": []
  }
 ],
 "metadata": {
  "kernelspec": {
   "display_name": "Python 3",
   "language": "python",
   "name": "python3"
  },
  "language_info": {
   "name": ""
  }
 },
 "nbformat": 4,
 "nbformat_minor": 4
}
