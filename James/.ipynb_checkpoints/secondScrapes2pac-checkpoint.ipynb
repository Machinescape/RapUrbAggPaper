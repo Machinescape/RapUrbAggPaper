{
 "cells": [
  {
   "cell_type": "code",
   "execution_count": 10,
   "metadata": {},
   "outputs": [
    {
     "ename": "SyntaxError",
     "evalue": "(unicode error) 'unicodeescape' codec can't decode bytes in position 2-3: truncated \\UXXXXXXXX escape (<ipython-input-10-9bd7a724ccfb>, line 15)",
     "output_type": "error",
     "traceback": [
      "\u001b[1;36m  File \u001b[1;32m\"<ipython-input-10-9bd7a724ccfb>\"\u001b[1;36m, line \u001b[1;32m15\u001b[0m\n\u001b[1;33m    RapUrbAggPaper = 'C:\\Users\\zumel\\RapUrbAggPaper'\u001b[0m\n\u001b[1;37m                    ^\u001b[0m\n\u001b[1;31mSyntaxError\u001b[0m\u001b[1;31m:\u001b[0m (unicode error) 'unicodeescape' codec can't decode bytes in position 2-3: truncated \\UXXXXXXXX escape\n"
     ]
    }
   ],
   "source": [
    "###  Removing non-songs from first scrapes ###\n",
    "# rm *live*.json\n",
    "# rm *remix*.json\n",
    "# rm *numix*.json\n",
    "# rm *tupac*.json #Autobiographical stuff\n",
    "# rm lyrics_2pac_2pac*.json\n",
    "# rm *dedicated*.json #Dedications from book\n",
    "# rm *version*.json #Alternative versions\n",
    "# rm *og.json\n",
    "# rm *poem*.json #Poems all had song analogs\n",
    "# 694 to 455 song files\n",
    "\n",
    "### Removed all .json files from directory and starting over ###"
   ]
  },
  {
   "cell_type": "code",
   "execution_count": 18,
   "metadata": {},
   "outputs": [],
   "source": [
    "import lyricsgenius as genius\n",
    "import json\n",
    "client_access_token = 'X7wARSbkNUtxXXvABWRFY45ZXt-imm-Igiw97pb_2bucLMvmcWrq-cIruCRrS9U7'\n",
    "api = genius.Genius(client_access_token)\n",
    "genius.remove_section_headers = True # Remove section headers (e.g. [Chorus]) from lyrics when searching\n",
    "genius.skip_non_songs = True # Include hits thought to be non-songs (e.g. track lists)\n",
    "genius.excluded_terms = [\"(live)\", \"(remix)\", \"(numix)\", \"(tupac)\", \"(2pac)\", \"(dedicated)\", \"(version)\", \"(og)\", \"(poem)\"] # Exclude songs with these words in their title"
   ]
  },
  {
   "cell_type": "code",
   "execution_count": 17,
   "metadata": {},
   "outputs": [
    {
     "name": "stdout",
     "output_type": "stream",
     "text": [
      "Searching for songs by 2Pac...\n",
      "\n",
      "Song 1: \"16 on Death Row\"\n",
      "Song 2: \"187 On A Hook (Remix)\"\n",
      "Song 3: \"1995 Police Station Testimony\"\n",
      "\n",
      "Reached user-specified song limit (3).\n",
      "Done. Found 3 songs.\n",
      "[('16 on Death Row', '2Pac'), ('187 On A Hook (Remix)', '2Pac'), ('1995 Police Station Testimony', '2Pac')]\n",
      "Wrote 16 on Death Row to lyrics_2pac_16ondeathrow.json.\n",
      "Wrote 187 On A Hook (Remix) to lyrics_2pac_187onahookremix.json.\n",
      "Wrote 1995 Police Station Testimony to lyrics_2pac_1995policestationtestimony.json.\n"
     ]
    }
   ],
   "source": [
    "artist = api.search_artist(\"2Pac\", max_songs=3, sort=\"title\")\n",
    "print(artist.songs)\n",
    "artist.save_lyrics()"
   ]
  },
  {
   "cell_type": "code",
   "execution_count": null,
   "metadata": {},
   "outputs": [],
   "source": [
    "with open('2Pacsongs' + '.json', 'w') as outfile:\n",
    "            json.dump(all_lyrics, outfile)"
   ]
  }
 ],
 "metadata": {
  "kernelspec": {
   "display_name": "Python 3",
   "language": "python",
   "name": "python3"
  },
  "language_info": {
   "codemirror_mode": {
    "name": "ipython",
    "version": 3
   },
   "file_extension": ".py",
   "mimetype": "text/x-python",
   "name": "python",
   "nbconvert_exporter": "python",
   "pygments_lexer": "ipython3",
   "version": "3.7.4"
  }
 },
 "nbformat": 4,
 "nbformat_minor": 2
}
