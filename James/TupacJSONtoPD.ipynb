{
 "cells": [
  {
   "cell_type": "code",
   "execution_count": 1,
   "metadata": {},
   "outputs": [],
   "source": [
    "import json\n",
    "import pandas as pd\n",
    "import os"
   ]
  },
  {
   "cell_type": "code",
   "execution_count": 2,
   "metadata": {},
   "outputs": [
    {
     "data": {
      "text/html": [
       "<div>\n",
       "<style scoped>\n",
       "    .dataframe tbody tr th:only-of-type {\n",
       "        vertical-align: middle;\n",
       "    }\n",
       "\n",
       "    .dataframe tbody tr th {\n",
       "        vertical-align: top;\n",
       "    }\n",
       "\n",
       "    .dataframe thead th {\n",
       "        text-align: right;\n",
       "    }\n",
       "</style>\n",
       "<table border=\"1\" class=\"dataframe\">\n",
       "  <thead>\n",
       "    <tr style=\"text-align: right;\">\n",
       "      <th></th>\n",
       "      <th>artist</th>\n",
       "      <th>title</th>\n",
       "      <th>album</th>\n",
       "      <th>releasedate</th>\n",
       "      <th>lyrics</th>\n",
       "    </tr>\n",
       "  </thead>\n",
       "  <tbody>\n",
       "    <tr>\n",
       "      <td>0</td>\n",
       "      <td>2Pac</td>\n",
       "      <td>16 on Death Row</td>\n",
       "      <td>R U Still Down? (Remember Me)</td>\n",
       "      <td>1997-11-25</td>\n",
       "      <td>[Intro]\\nDeath Row\\nThat's where mothafuckas i...</td>\n",
       "    </tr>\n",
       "  </tbody>\n",
       "</table>\n",
       "</div>"
      ],
      "text/plain": [
       "  artist            title                          album releasedate  \\\n",
       "0   2Pac  16 on Death Row  R U Still Down? (Remember Me)  1997-11-25   \n",
       "\n",
       "                                              lyrics  \n",
       "0  [Intro]\\nDeath Row\\nThat's where mothafuckas i...  "
      ]
     },
     "execution_count": 2,
     "metadata": {},
     "output_type": "execute_result"
    }
   ],
   "source": [
    "'''Open first json file and make a dataframe in pandas'''\n",
    "with open('./2Pac_songs/lyrics_2pac_16ondeathrow.json') as json_data:\n",
    "    data = json.load(json_data)\n",
    "\n",
    "table1 = pd.DataFrame([[data['artist'], data['songs'][0]['title'], data['songs'][0]['album'], data['songs'][0]['year'], data['songs'][0]['lyrics']]], columns = ['artist', 'title', 'album', 'releasedate', 'lyrics'])\n",
    "\n",
    "table1"
   ]
  },
  {
   "cell_type": "code",
   "execution_count": 10,
   "metadata": {},
   "outputs": [
    {
     "data": {
      "text/html": [
       "<div>\n",
       "<style scoped>\n",
       "    .dataframe tbody tr th:only-of-type {\n",
       "        vertical-align: middle;\n",
       "    }\n",
       "\n",
       "    .dataframe tbody tr th {\n",
       "        vertical-align: top;\n",
       "    }\n",
       "\n",
       "    .dataframe thead th {\n",
       "        text-align: right;\n",
       "    }\n",
       "</style>\n",
       "<table border=\"1\" class=\"dataframe\">\n",
       "  <thead>\n",
       "    <tr style=\"text-align: right;\">\n",
       "      <th></th>\n",
       "      <th>artist</th>\n",
       "      <th>title</th>\n",
       "      <th>album</th>\n",
       "      <th>releasedate</th>\n",
       "      <th>lyrics</th>\n",
       "    </tr>\n",
       "  </thead>\n",
       "  <tbody>\n",
       "    <tr>\n",
       "      <td>0</td>\n",
       "      <td>2Pac</td>\n",
       "      <td>All Eyez on Me</td>\n",
       "      <td>All Eyez on Me</td>\n",
       "      <td>1996-02-13</td>\n",
       "      <td>[Intro: 2Pac]\\nBig Syke, Newt, Hank, Beugard, ...</td>\n",
       "    </tr>\n",
       "  </tbody>\n",
       "</table>\n",
       "</div>"
      ],
      "text/plain": [
       "  artist           title           album releasedate  \\\n",
       "0   2Pac  All Eyez on Me  All Eyez on Me  1996-02-13   \n",
       "\n",
       "                                              lyrics  \n",
       "0  [Intro: 2Pac]\\nBig Syke, Newt, Hank, Beugard, ...  "
      ]
     },
     "execution_count": 10,
     "metadata": {},
     "output_type": "execute_result"
    }
   ],
   "source": [
    "'''Open another json file and make a dataframe in pandas'''\n",
    "with open('./2Pac_songs/lyrics_2pac_alleyezonme.json') as json_data:\n",
    "    data = json.load(json_data)\n",
    "\n",
    "table2 = pd.DataFrame([[data['artist'], data['songs'][0]['title'], data['songs'][0]['album'], data['songs'][0]['year'], data['songs'][0]['lyrics']]], columns = ['artist', 'title', 'album', 'releasedate', 'lyrics'])\n",
    "\n",
    "table2"
   ]
  },
  {
   "cell_type": "code",
   "execution_count": 11,
   "metadata": {},
   "outputs": [
    {
     "data": {
      "text/html": [
       "<div>\n",
       "<style scoped>\n",
       "    .dataframe tbody tr th:only-of-type {\n",
       "        vertical-align: middle;\n",
       "    }\n",
       "\n",
       "    .dataframe tbody tr th {\n",
       "        vertical-align: top;\n",
       "    }\n",
       "\n",
       "    .dataframe thead th {\n",
       "        text-align: right;\n",
       "    }\n",
       "</style>\n",
       "<table border=\"1\" class=\"dataframe\">\n",
       "  <thead>\n",
       "    <tr style=\"text-align: right;\">\n",
       "      <th></th>\n",
       "      <th>artist</th>\n",
       "      <th>title</th>\n",
       "      <th>album</th>\n",
       "      <th>releasedate</th>\n",
       "      <th>lyrics</th>\n",
       "    </tr>\n",
       "  </thead>\n",
       "  <tbody>\n",
       "    <tr>\n",
       "      <td>0</td>\n",
       "      <td>2Pac</td>\n",
       "      <td>16 on Death Row</td>\n",
       "      <td>R U Still Down? (Remember Me)</td>\n",
       "      <td>1997-11-25</td>\n",
       "      <td>[Intro]\\nDeath Row\\nThat's where mothafuckas i...</td>\n",
       "    </tr>\n",
       "    <tr>\n",
       "      <td>0</td>\n",
       "      <td>2Pac</td>\n",
       "      <td>All Eyez on Me</td>\n",
       "      <td>All Eyez on Me</td>\n",
       "      <td>1996-02-13</td>\n",
       "      <td>[Intro: 2Pac]\\nBig Syke, Newt, Hank, Beugard, ...</td>\n",
       "    </tr>\n",
       "  </tbody>\n",
       "</table>\n",
       "</div>"
      ],
      "text/plain": [
       "  artist            title                          album releasedate  \\\n",
       "0   2Pac  16 on Death Row  R U Still Down? (Remember Me)  1997-11-25   \n",
       "0   2Pac   All Eyez on Me                 All Eyez on Me  1996-02-13   \n",
       "\n",
       "                                              lyrics  \n",
       "0  [Intro]\\nDeath Row\\nThat's where mothafuckas i...  \n",
       "0  [Intro: 2Pac]\\nBig Syke, Newt, Hank, Beugard, ...  "
      ]
     },
     "execution_count": 11,
     "metadata": {},
     "output_type": "execute_result"
    }
   ],
   "source": [
    "'''Combine table1 and table2'''\n",
    "table1 = table1.append(table2)\n",
    "\n",
    "table1"
   ]
  },
  {
   "cell_type": "code",
   "execution_count": 4,
   "metadata": {},
   "outputs": [
    {
     "ename": "NameError",
     "evalue": "name 'tablefull' is not defined",
     "output_type": "error",
     "traceback": [
      "\u001b[1;31m---------------------------------------------------------------------------\u001b[0m",
      "\u001b[1;31mNameError\u001b[0m                                 Traceback (most recent call last)",
      "\u001b[1;32m<ipython-input-4-cb9274809ba7>\u001b[0m in \u001b[0;36m<module>\u001b[1;34m\u001b[0m\n\u001b[0;32m      8\u001b[0m \u001b[1;33m\u001b[0m\u001b[0m\n\u001b[0;32m      9\u001b[0m \u001b[1;33m\u001b[0m\u001b[0m\n\u001b[1;32m---> 10\u001b[1;33m \u001b[0mtablefull\u001b[0m\u001b[1;33m\u001b[0m\u001b[1;33m\u001b[0m\u001b[0m\n\u001b[0m",
      "\u001b[1;31mNameError\u001b[0m: name 'tablefull' is not defined"
     ]
    }
   ],
   "source": [
    "'''Open each other json file and append that data into original dataframe'''\n",
    "for song in os.listdir(path = '2Pac_songs'):\n",
    "    if song == '*.json':\n",
    "        with open('./2Pac_songs/' + song) as song_file:\n",
    "            data = json.load(song_file)\n",
    "            table_song = pd.DataFrame([[data['artist'], data['songs'][0]['title'], data['songs'][0]['album'], data['songs'][0]['year'], data['songs'][0]['lyrics']]], columns = ['artist', 'title', 'album', 'releasedate', 'lyrics'])\n",
    "            tablefull = tablefull + table1.append(table_song)\n",
    "           \n",
    "        \n",
    "tablefull     \n"
   ]
  },
  {
   "cell_type": "code",
   "execution_count": 12,
   "metadata": {},
   "outputs": [
    {
     "data": {
      "text/html": [
       "<div>\n",
       "<style scoped>\n",
       "    .dataframe tbody tr th:only-of-type {\n",
       "        vertical-align: middle;\n",
       "    }\n",
       "\n",
       "    .dataframe tbody tr th {\n",
       "        vertical-align: top;\n",
       "    }\n",
       "\n",
       "    .dataframe thead th {\n",
       "        text-align: right;\n",
       "    }\n",
       "</style>\n",
       "<table border=\"1\" class=\"dataframe\">\n",
       "  <thead>\n",
       "    <tr style=\"text-align: right;\">\n",
       "      <th></th>\n",
       "      <th>artist</th>\n",
       "      <th>title</th>\n",
       "      <th>album</th>\n",
       "      <th>releasedate</th>\n",
       "      <th>lyrics</th>\n",
       "    </tr>\n",
       "  </thead>\n",
       "  <tbody>\n",
       "    <tr>\n",
       "      <td>0</td>\n",
       "      <td>2Pac</td>\n",
       "      <td>16 on Death Row</td>\n",
       "      <td>R U Still Down? (Remember Me)</td>\n",
       "      <td>1997-11-25</td>\n",
       "      <td>[Intro]\\nDeath Row\\nThat's where mothafuckas i...</td>\n",
       "    </tr>\n",
       "    <tr>\n",
       "      <td>0</td>\n",
       "      <td>2Pac</td>\n",
       "      <td>All Eyez on Me</td>\n",
       "      <td>All Eyez on Me</td>\n",
       "      <td>1996-02-13</td>\n",
       "      <td>[Intro: 2Pac]\\nBig Syke, Newt, Hank, Beugard, ...</td>\n",
       "    </tr>\n",
       "  </tbody>\n",
       "</table>\n",
       "</div>"
      ],
      "text/plain": [
       "  artist            title                          album releasedate  \\\n",
       "0   2Pac  16 on Death Row  R U Still Down? (Remember Me)  1997-11-25   \n",
       "0   2Pac   All Eyez on Me                 All Eyez on Me  1996-02-13   \n",
       "\n",
       "                                              lyrics  \n",
       "0  [Intro]\\nDeath Row\\nThat's where mothafuckas i...  \n",
       "0  [Intro: 2Pac]\\nBig Syke, Newt, Hank, Beugard, ...  "
      ]
     },
     "execution_count": 12,
     "metadata": {},
     "output_type": "execute_result"
    }
   ],
   "source": [
    "table1"
   ]
  }
 ],
 "metadata": {
  "kernelspec": {
   "display_name": "Python 3",
   "language": "python",
   "name": "python3"
  },
  "language_info": {
   "codemirror_mode": {
    "name": "ipython",
    "version": 3
   },
   "file_extension": ".py",
   "mimetype": "text/x-python",
   "name": "python",
   "nbconvert_exporter": "python",
   "pygments_lexer": "ipython3",
   "version": "3.7.4"
  }
 },
 "nbformat": 4,
 "nbformat_minor": 4
}
