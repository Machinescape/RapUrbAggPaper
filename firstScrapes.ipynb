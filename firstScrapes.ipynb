{
 "cells": [
  {
   "cell_type": "code",
   "execution_count": 2,
   "metadata": {},
   "outputs": [
    {
     "name": "stdout",
     "output_type": "stream",
     "text": [
      "Collecting lyricsgenius\n",
      "  Downloading https://files.pythonhosted.org/packages/3d/c6/be467deb1041809bf0bc66fba37a74c05e96f5f3d2b4e6c3c73c5bb7a01c/lyricsgenius-1.7.0-py3-none-any.whl\n",
      "Requirement already satisfied: requests>=2.20.0 in c:\\users\\zumel\\anaconda3\\lib\\site-packages (from lyricsgenius) (2.22.0)\n",
      "Collecting beautifulsoup4==4.6.0 (from lyricsgenius)\n",
      "  Downloading https://files.pythonhosted.org/packages/9e/d4/10f46e5cfac773e22707237bfcd51bbffeaf0a576b0a847ec7ab15bd7ace/beautifulsoup4-4.6.0-py3-none-any.whl (86kB)\n",
      "Requirement already satisfied: idna<2.9,>=2.5 in c:\\users\\zumel\\anaconda3\\lib\\site-packages (from requests>=2.20.0->lyricsgenius) (2.8)\n",
      "Requirement already satisfied: chardet<3.1.0,>=3.0.2 in c:\\users\\zumel\\anaconda3\\lib\\site-packages (from requests>=2.20.0->lyricsgenius) (3.0.4)\n",
      "Requirement already satisfied: certifi>=2017.4.17 in c:\\users\\zumel\\anaconda3\\lib\\site-packages (from requests>=2.20.0->lyricsgenius) (2019.9.11)\n",
      "Requirement already satisfied: urllib3!=1.25.0,!=1.25.1,<1.26,>=1.21.1 in c:\\users\\zumel\\anaconda3\\lib\\site-packages (from requests>=2.20.0->lyricsgenius) (1.24.2)\n",
      "Installing collected packages: beautifulsoup4, lyricsgenius\n",
      "  Found existing installation: beautifulsoup4 4.8.0\n",
      "    Uninstalling beautifulsoup4-4.8.0:\n",
      "      Successfully uninstalled beautifulsoup4-4.8.0\n",
      "Successfully installed beautifulsoup4-4.6.0 lyricsgenius-1.7.0\n",
      "Note: you may need to restart the kernel to use updated packages.\n"
     ]
    }
   ],
   "source": [
    "pip install lyricsgenius"
   ]
  },
  {
   "cell_type": "code",
   "execution_count": 1,
   "metadata": {},
   "outputs": [],
   "source": [
    "import requests\n",
    "import urllib"
   ]
  },
  {
   "cell_type": "code",
   "execution_count": 16,
   "metadata": {},
   "outputs": [
    {
     "data": {
      "text/plain": [
       "['Genius',\n",
       " '__author__',\n",
       " '__builtins__',\n",
       " '__cached__',\n",
       " '__description__',\n",
       " '__doc__',\n",
       " '__file__',\n",
       " '__license__',\n",
       " '__loader__',\n",
       " '__name__',\n",
       " '__package__',\n",
       " '__path__',\n",
       " '__spec__',\n",
       " '__url__',\n",
       " '__version__',\n",
       " 'api',\n",
       " 'artist',\n",
       " 'song',\n",
       " 'sys']"
      ]
     },
     "execution_count": 16,
     "metadata": {},
     "output_type": "execute_result"
    }
   ],
   "source": [
    "dir(genius) #This area is for seeing what I can do w/ modules"
   ]
  },
  {
   "cell_type": "code",
   "execution_count": 10,
   "metadata": {},
   "outputs": [],
   "source": [
    "client_access_token = 'X7wARSbkNUtxXXvABWRFY45ZXt-imm-Igiw97pb_2bucLMvmcWrq-cIruCRrS9U7'"
   ]
  },
  {
   "cell_type": "code",
   "execution_count": 8,
   "metadata": {},
   "outputs": [],
   "source": [
    "import lyricsgenius as genius"
   ]
  },
  {
   "cell_type": "code",
   "execution_count": 17,
   "metadata": {},
   "outputs": [
    {
     "name": "stdout",
     "output_type": "stream",
     "text": [
      "Searching for songs by 2Pac...\n",
      "\n",
      "Song 1: \"Hit ’Em Up\"\n",
      "Song 2: \"Keep Ya Head Up\"\n",
      "Song 3: \"Changes\"\n",
      "Song 4: \"Hail Mary\"\n",
      "Song 5: \"Dear Mama\"\n",
      "\n",
      "Reached user-specified song limit (5).\n",
      "Done. Found 5 songs.\n",
      "2Pac, 5 songs\n"
     ]
    }
   ],
   "source": [
    "api = genius.Genius(client_access_token)\n",
    "artist = api.search_artist('2Pac', max_songs=5)\n",
    "print(artist)"
   ]
  },
  {
   "cell_type": "code",
   "execution_count": 19,
   "metadata": {},
   "outputs": [
    {
     "name": "stdout",
     "output_type": "stream",
     "text": [
      "Searching for \"Hit 'Em Up\" by 2Pac...\n",
      "Done.\n",
      "Hit ’Em Up already in 2Pac, not adding song.\n",
      "2Pac, 5 songs\n",
      "\"Hit ’Em Up\" by 2Pac:\n",
      "    [Intro: 2Pac]\n",
      "    I ain't got no motherfuckin' friends\n",
      "    That's why I fucked yo' bitch, you fat motherfuck...\n"
     ]
    }
   ],
   "source": [
    "song = api.search_song(\"Hit 'Em Up\", artist.name)\n",
    "artist.add_song(song)\n",
    "print(artist)\n",
    "print(artist.songs[0])"
   ]
  }
 ],
 "metadata": {
  "kernelspec": {
   "display_name": "Python 3",
   "language": "python",
   "name": "python3"
  },
  "language_info": {
   "codemirror_mode": {
    "name": "ipython",
    "version": 3
   },
   "file_extension": ".py",
   "mimetype": "text/x-python",
   "name": "python",
   "nbconvert_exporter": "python",
   "pygments_lexer": "ipython3",
   "version": "3.7.4"
  }
 },
 "nbformat": 4,
 "nbformat_minor": 2
}
