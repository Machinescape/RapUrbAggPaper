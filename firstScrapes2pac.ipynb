{
 "cells": [
  {
   "cell_type": "code",
   "execution_count": 2,
   "metadata": {},
   "outputs": [
    {
     "name": "stdout",
     "output_type": "stream",
     "text": [
      "Collecting lyricsgenius\n",
      "  Downloading https://files.pythonhosted.org/packages/3d/c6/be467deb1041809bf0bc66fba37a74c05e96f5f3d2b4e6c3c73c5bb7a01c/lyricsgenius-1.7.0-py3-none-any.whl\n",
      "Requirement already satisfied: requests>=2.20.0 in c:\\users\\zumel\\anaconda3\\lib\\site-packages (from lyricsgenius) (2.22.0)\n",
      "Collecting beautifulsoup4==4.6.0 (from lyricsgenius)\n",
      "  Downloading https://files.pythonhosted.org/packages/9e/d4/10f46e5cfac773e22707237bfcd51bbffeaf0a576b0a847ec7ab15bd7ace/beautifulsoup4-4.6.0-py3-none-any.whl (86kB)\n",
      "Requirement already satisfied: idna<2.9,>=2.5 in c:\\users\\zumel\\anaconda3\\lib\\site-packages (from requests>=2.20.0->lyricsgenius) (2.8)\n",
      "Requirement already satisfied: chardet<3.1.0,>=3.0.2 in c:\\users\\zumel\\anaconda3\\lib\\site-packages (from requests>=2.20.0->lyricsgenius) (3.0.4)\n",
      "Requirement already satisfied: certifi>=2017.4.17 in c:\\users\\zumel\\anaconda3\\lib\\site-packages (from requests>=2.20.0->lyricsgenius) (2019.9.11)\n",
      "Requirement already satisfied: urllib3!=1.25.0,!=1.25.1,<1.26,>=1.21.1 in c:\\users\\zumel\\anaconda3\\lib\\site-packages (from requests>=2.20.0->lyricsgenius) (1.24.2)\n",
      "Installing collected packages: beautifulsoup4, lyricsgenius\n",
      "  Found existing installation: beautifulsoup4 4.8.0\n",
      "    Uninstalling beautifulsoup4-4.8.0:\n",
      "      Successfully uninstalled beautifulsoup4-4.8.0\n",
      "Successfully installed beautifulsoup4-4.6.0 lyricsgenius-1.7.0\n",
      "Note: you may need to restart the kernel to use updated packages.\n"
     ]
    }
   ],
   "source": [
    "pip install lyricsgenius"
   ]
  },
  {
   "cell_type": "code",
   "execution_count": 2,
   "metadata": {},
   "outputs": [],
   "source": [
    "import requests\n",
    "import urllib"
   ]
  },
  {
   "cell_type": "code",
   "execution_count": 16,
   "metadata": {},
   "outputs": [
    {
     "data": {
      "text/plain": [
       "['__annotations__',\n",
       " '__call__',\n",
       " '__class__',\n",
       " '__closure__',\n",
       " '__code__',\n",
       " '__defaults__',\n",
       " '__delattr__',\n",
       " '__dict__',\n",
       " '__dir__',\n",
       " '__doc__',\n",
       " '__eq__',\n",
       " '__format__',\n",
       " '__ge__',\n",
       " '__get__',\n",
       " '__getattribute__',\n",
       " '__globals__',\n",
       " '__gt__',\n",
       " '__hash__',\n",
       " '__init__',\n",
       " '__init_subclass__',\n",
       " '__kwdefaults__',\n",
       " '__le__',\n",
       " '__lt__',\n",
       " '__module__',\n",
       " '__name__',\n",
       " '__ne__',\n",
       " '__new__',\n",
       " '__qualname__',\n",
       " '__reduce__',\n",
       " '__reduce_ex__',\n",
       " '__repr__',\n",
       " '__setattr__',\n",
       " '__sizeof__',\n",
       " '__str__',\n",
       " '__subclasshook__']"
      ]
     },
     "execution_count": 16,
     "metadata": {},
     "output_type": "execute_result"
    }
   ],
   "source": [
    "dir(genius.Genius.save_artists) #This area is for seeing what I can do w/ modules"
   ]
  },
  {
   "cell_type": "code",
   "execution_count": 3,
   "metadata": {},
   "outputs": [],
   "source": [
    "client_access_token = 'X7wARSbkNUtxXXvABWRFY45ZXt-imm-Igiw97pb_2bucLMvmcWrq-cIruCRrS9U7'"
   ]
  },
  {
   "cell_type": "code",
   "execution_count": 4,
   "metadata": {},
   "outputs": [],
   "source": [
    "import lyricsgenius as genius"
   ]
  },
  {
   "cell_type": "code",
   "execution_count": 5,
   "metadata": {},
   "outputs": [],
   "source": [
    "albums_2Pac= ['2Pacalypse Now', 'Strictly 4 My N.I.G.G.A.Z...', 'Me Against the World', 'All Eyez on Me', 'The Don Killuminati: The 7 Day Theory', 'R U Still Down? (Remember Me)', 'Still I Rise', 'Until the End of Time', 'Better Dayz', \n",
    "        'Loyal to the Game', \"Pac's Life\"]"
   ]
  },
  {
   "cell_type": "code",
   "execution_count": 10,
   "metadata": {},
   "outputs": [
    {
     "name": "stdout",
     "output_type": "stream",
     "text": [
      "Searching for songs by 2Pac...\n",
      "\n",
      "Song 1: \"16 on Death Row\"\n",
      "Song 2: \"187 On A Hook (Remix)\"\n",
      "Song 3: \"1995 Police Station Testimony\"\n",
      "\n",
      "Reached user-specified song limit (3).\n",
      "Done. Found 3 songs.\n"
     ]
    }
   ],
   "source": [
    "# genius.remove_section_headers = True # Remove section headers (e.g. [Chorus]) from lyrics when searching\n",
    "# genius.skip_non_songs = True # Include hits thought to be non-songs (e.g. track lists)\n",
    "# genius.excluded_terms = [\"(Live)\", \"(Remix)\", \"(Nu-Mixx)\", \"(2Pac)\", \"(Version)\", \"(OG)\", \"(Poem)\"] # Exclude songs with these words in their title\n",
    "api = genius.Genius(client_access_token)\n",
    "artist = api.search_artist('2Pac', max_songs=3, sort=\"title\") #Brings in all songs under 2Pac\n"
   ]
  },
  {
   "cell_type": "code",
   "execution_count": 7,
   "metadata": {},
   "outputs": [
    {
     "ename": "NameError",
     "evalue": "name 'artist' is not defined",
     "output_type": "error",
     "traceback": [
      "\u001b[1;31m---------------------------------------------------------------------------\u001b[0m",
      "\u001b[1;31mNameError\u001b[0m                                 Traceback (most recent call last)",
      "\u001b[1;32m<ipython-input-7-ed51339e9eb3>\u001b[0m in \u001b[0;36m<module>\u001b[1;34m\u001b[0m\n\u001b[1;32m----> 1\u001b[1;33m \u001b[0mprint\u001b[0m\u001b[1;33m(\u001b[0m\u001b[0mtype\u001b[0m\u001b[1;33m(\u001b[0m\u001b[0martist\u001b[0m\u001b[1;33m)\u001b[0m\u001b[1;33m)\u001b[0m\u001b[1;33m\u001b[0m\u001b[1;33m\u001b[0m\u001b[0m\n\u001b[0m\u001b[0;32m      2\u001b[0m \u001b[1;31m# artist.save_lyrics() #Creates jsons of each song under the artist 2Pac\u001b[0m\u001b[1;33m\u001b[0m\u001b[1;33m\u001b[0m\u001b[1;33m\u001b[0m\u001b[0m\n",
      "\u001b[1;31mNameError\u001b[0m: name 'artist' is not defined"
     ]
    }
   ],
   "source": [
    "print(type(artist))\n",
    "# artist.save_lyrics() #Creates jsons of each song under the artist 2Pac"
   ]
  },
  {
   "cell_type": "code",
   "execution_count": null,
   "metadata": {},
   "outputs": [],
   "source": [
    "# Next steps:\n",
    "# Figure out how to get rid of lives, remixes, skits, interviews etc.\n",
    "# Merge all songs into one json dictionary\n",
    "# Split songs into n-grams\n",
    "# Compare distributions to all before and all after\n",
    "\n",
    "\n"
   ]
  }
 ],
 "metadata": {
  "kernelspec": {
   "display_name": "Python 3",
   "language": "python",
   "name": "python3"
  },
  "language_info": {
   "codemirror_mode": {
    "name": "ipython",
    "version": 3
   },
   "file_extension": ".py",
   "mimetype": "text/x-python",
   "name": "python",
   "nbconvert_exporter": "python",
   "pygments_lexer": "ipython3",
   "version": "3.7.4"
  }
 },
 "nbformat": 4,
 "nbformat_minor": 2
}
