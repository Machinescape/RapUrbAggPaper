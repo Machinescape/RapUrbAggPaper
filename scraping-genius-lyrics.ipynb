{
 "cells": [
  {
   "cell_type": "markdown",
   "metadata": {},
   "source": [
    "## Scraping song lyrics from the Genius.com ##\n",
    "\n",
    "This notebook contains the Python code described on my blog in the [scraping genius lyrics post](http://www.johnwmillr.com/blog/2017/scraping-genius-lyrics).\n",
    "\n",
    "Head over to my [GitHub repository](https://github.com/johnwmillr/geniusapi) to clone my Python wrapper.\n"
   ]
  },
  {
   "cell_type": "markdown",
   "metadata": {},
   "source": [
    "## Genius API ##"
   ]
  },
  {
   "cell_type": "code",
   "execution_count": 7,
   "metadata": {},
   "outputs": [],
   "source": [
    "# Sign up for a free account at Genius.com to access the API\n",
    "# http://genius.com/api-clients\n",
    "client_access_token = 'X7wARSbkNUtxXXvABWRFY45ZXt-imm-Igiw97pb_2bucLMvmcWrq-cIruCRrS9U7'"
   ]
  },
  {
   "cell_type": "code",
   "execution_count": 8,
   "metadata": {},
   "outputs": [],
   "source": [
    "# Let's take a look at how we might search for an artist using the Genius API.\n",
    "import requests\n",
    "import urllib\n",
    "\n",
    "# Format a request URL for the Genius API\n",
    "search_term = 'Andy Shauf'\n",
    "_URL_API = \"https://api.genius.com/\"\n",
    "_URL_SEARCH = \"search?q=\"\n",
    "querystring = _URL_API + _URL_SEARCH + urllib.parse.quote(search_term)\n",
    "request = urllib.request.Request(querystring)\n",
    "request.add_header(\"Authorization\", \"Bearer \" + client_access_token)\n",
    "# request.add_header(\"User-Agent\",\"curl/7.9.8 (i686-pc-linux-gnu) libcurl 7.9.8 (OpnSSL 0.9.6b) (ipv6 enabled)\")\n",
    "request.add_header(\"User-Agent\", \"\")"
   ]
  },
  {
   "cell_type": "code",
   "execution_count": 12,
   "metadata": {},
   "outputs": [
    {
     "ename": "AssertionError",
     "evalue": "proxies must be a mapping",
     "output_type": "error",
     "traceback": [
      "\u001b[1;31m---------------------------------------------------------------------------\u001b[0m",
      "\u001b[1;31mAssertionError\u001b[0m                            Traceback (most recent call last)",
      "\u001b[1;32m<ipython-input-12-a1e5b5e08579>\u001b[0m in \u001b[0;36m<module>\u001b[1;34m\u001b[0m\n\u001b[0;32m      1\u001b[0m \u001b[1;31m# Now that we’ve formatted the URL, we can make a request to the database.\u001b[0m\u001b[1;33m\u001b[0m\u001b[1;33m\u001b[0m\u001b[1;33m\u001b[0m\u001b[0m\n\u001b[0;32m      2\u001b[0m \u001b[1;32mimport\u001b[0m \u001b[0mjson\u001b[0m\u001b[1;33m\u001b[0m\u001b[1;33m\u001b[0m\u001b[0m\n\u001b[1;32m----> 3\u001b[1;33m \u001b[0mresponse\u001b[0m \u001b[1;33m=\u001b[0m \u001b[0murllib\u001b[0m\u001b[1;33m.\u001b[0m\u001b[0mrequest\u001b[0m\u001b[1;33m.\u001b[0m\u001b[0mURLopener\u001b[0m\u001b[1;33m(\u001b[0m\u001b[0mrequest\u001b[0m\u001b[1;33m,\u001b[0m \u001b[0mtimeout\u001b[0m\u001b[1;33m=\u001b[0m\u001b[1;36m3\u001b[0m\u001b[1;33m)\u001b[0m\u001b[1;33m\u001b[0m\u001b[1;33m\u001b[0m\u001b[0m\n\u001b[0m\u001b[0;32m      4\u001b[0m \u001b[0mraw\u001b[0m \u001b[1;33m=\u001b[0m \u001b[0mresponse\u001b[0m\u001b[1;33m.\u001b[0m\u001b[0mread\u001b[0m\u001b[1;33m(\u001b[0m\u001b[1;33m)\u001b[0m\u001b[1;33m\u001b[0m\u001b[1;33m\u001b[0m\u001b[0m\n\u001b[0;32m      5\u001b[0m \u001b[0mjson_obj\u001b[0m \u001b[1;33m=\u001b[0m \u001b[0mjson\u001b[0m\u001b[1;33m.\u001b[0m\u001b[0mloads\u001b[0m\u001b[1;33m(\u001b[0m\u001b[0mraw\u001b[0m\u001b[1;33m)\u001b[0m\u001b[1;33m\u001b[0m\u001b[1;33m\u001b[0m\u001b[0m\n",
      "\u001b[1;32m~\\Anaconda3\\lib\\urllib\\request.py\u001b[0m in \u001b[0;36m__init__\u001b[1;34m(self, proxies, **x509)\u001b[0m\n\u001b[0;32m   1680\u001b[0m         \u001b[1;32mif\u001b[0m \u001b[0mproxies\u001b[0m \u001b[1;32mis\u001b[0m \u001b[1;32mNone\u001b[0m\u001b[1;33m:\u001b[0m\u001b[1;33m\u001b[0m\u001b[1;33m\u001b[0m\u001b[0m\n\u001b[0;32m   1681\u001b[0m             \u001b[0mproxies\u001b[0m \u001b[1;33m=\u001b[0m \u001b[0mgetproxies\u001b[0m\u001b[1;33m(\u001b[0m\u001b[1;33m)\u001b[0m\u001b[1;33m\u001b[0m\u001b[1;33m\u001b[0m\u001b[0m\n\u001b[1;32m-> 1682\u001b[1;33m         \u001b[1;32massert\u001b[0m \u001b[0mhasattr\u001b[0m\u001b[1;33m(\u001b[0m\u001b[0mproxies\u001b[0m\u001b[1;33m,\u001b[0m \u001b[1;34m'keys'\u001b[0m\u001b[1;33m)\u001b[0m\u001b[1;33m,\u001b[0m \u001b[1;34m\"proxies must be a mapping\"\u001b[0m\u001b[1;33m\u001b[0m\u001b[1;33m\u001b[0m\u001b[0m\n\u001b[0m\u001b[0;32m   1683\u001b[0m         \u001b[0mself\u001b[0m\u001b[1;33m.\u001b[0m\u001b[0mproxies\u001b[0m \u001b[1;33m=\u001b[0m \u001b[0mproxies\u001b[0m\u001b[1;33m\u001b[0m\u001b[1;33m\u001b[0m\u001b[0m\n\u001b[0;32m   1684\u001b[0m         \u001b[0mself\u001b[0m\u001b[1;33m.\u001b[0m\u001b[0mkey_file\u001b[0m \u001b[1;33m=\u001b[0m \u001b[0mx509\u001b[0m\u001b[1;33m.\u001b[0m\u001b[0mget\u001b[0m\u001b[1;33m(\u001b[0m\u001b[1;34m'key_file'\u001b[0m\u001b[1;33m)\u001b[0m\u001b[1;33m\u001b[0m\u001b[1;33m\u001b[0m\u001b[0m\n",
      "\u001b[1;31mAssertionError\u001b[0m: proxies must be a mapping"
     ]
    }
   ],
   "source": [
    "# Now that we’ve formatted the URL, we can make a request to the database.\n",
    "import json\n",
    "response = urllib.request.URLopener(request, timeout=3)\n",
    "raw = response.read()\n",
    "json_obj = json.loads(raw)"
   ]
  },
  {
   "cell_type": "code",
   "execution_count": 140,
   "metadata": {},
   "outputs": [
    {
     "data": {
      "text/plain": [
       "dict_keys([u'meta', u'response'])"
      ]
     },
     "execution_count": 140,
     "metadata": {},
     "output_type": "execute_result"
    }
   ],
   "source": [
    "# The JSON object is just a normal python dictionary\n",
    "json_obj.viewkeys()"
   ]
  },
  {
   "cell_type": "code",
   "execution_count": 141,
   "metadata": {},
   "outputs": [
    {
     "data": {
      "text/plain": [
       "[u'song_art_image_thumbnail_url',\n",
       " u'api_path',\n",
       " u'stats',\n",
       " u'lyrics_state',\n",
       " u'title',\n",
       " u'pyongs_count',\n",
       " u'lyrics_owner_id',\n",
       " u'url',\n",
       " u'full_title',\n",
       " u'title_with_featured',\n",
       " u'header_image_thumbnail_url',\n",
       " u'path',\n",
       " u'primary_artist',\n",
       " u'annotation_count',\n",
       " u'id',\n",
       " u'header_image_url']"
      ]
     },
     "execution_count": 141,
     "metadata": {},
     "output_type": "execute_result"
    }
   ],
   "source": [
    "# The 'hits` key stores info on each song in the search result.\n",
    "# From here it's easy to grab the song title, album, etc.\n",
    "\n",
    "# List each key contained within a single search hit\n",
    "[key for key in json_obj['response']['hits'][0]['result']]"
   ]
  },
  {
   "cell_type": "code",
   "execution_count": 94,
   "metadata": {},
   "outputs": [
    {
     "data": {
      "text/plain": [
       "[u'The Magician',\n",
       " u'Wendell Walker',\n",
       " u\"You're Out Wasting\",\n",
       " u'To You',\n",
       " u'Quite Like You',\n",
       " u'Early to the Party',\n",
       " u'Twist Your Ankle',\n",
       " u'The Worst In You',\n",
       " u'Hometown Hero',\n",
       " u'Lick Your Wounds']"
      ]
     },
     "execution_count": 94,
     "metadata": {},
     "output_type": "execute_result"
    }
   ],
   "source": [
    "# View the song name for each search hit\n",
    "[song['result']['title'] for song in json_obj['response']['hits']]"
   ]
  },
  {
   "cell_type": "code",
   "execution_count": 95,
   "metadata": {},
   "outputs": [
    {
     "name": "stdout",
     "output_type": "stream",
     "text": [
      "https://images.genius.com/16423bad48ffd400aac3ba86d5b86ed4.850x850x1.jpg\n"
     ]
    }
   ],
   "source": [
    "# URL to artist image\n",
    "print(json_obj['response']['hits'][0]['result']['primary_artist']['image_url'])"
   ]
  },
  {
   "cell_type": "markdown",
   "metadata": {},
   "source": [
    "<img src=\"https://images.genius.com/16423bad48ffd400aac3ba86d5b86ed4.850x850x1.jpg\" style=\"width: 200px;\"/> "
   ]
  },
  {
   "cell_type": "markdown",
   "metadata": {},
   "source": [
    "### Access a song or artist directly by ID ###"
   ]
  },
  {
   "cell_type": "code",
   "execution_count": 15,
   "metadata": {},
   "outputs": [
    {
     "name": "stdout",
     "output_type": "stream",
     "text": [
      "('All I Want', 'Joni Mitchell')\n"
     ]
    }
   ],
   "source": [
    "# If you have an artist or song ID, you can access that entry \n",
    "# directly by reformatting the request URL.\n",
    "song_id = 82926\n",
    "querystring = \"https://api.genius.com/songs/\" + str(song_id)\n",
    "request = urllib.request.Request(querystring)\n",
    "request.add_header(\"Authorization\", \"Bearer \" + client_access_token)\n",
    "request.add_header(\"User-Agent\", \"\")\n",
    "response = urllib.request.urlopen(request, timeout=3)\n",
    "raw = response.read()\n",
    "json_obj = json.loads(raw)\n",
    "print((json_obj['response']['song']['title'],\\\n",
    "       json_obj['response']['song']['primary_artist']['name']))"
   ]
  },
  {
   "cell_type": "markdown",
   "metadata": {},
   "source": [
    "### Scrape song lyrics ###"
   ]
  },
  {
   "cell_type": "code",
   "execution_count": 165,
   "metadata": {},
   "outputs": [
    {
     "name": "stdout",
     "output_type": "stream",
     "text": [
      "\n",
      "\n",
      "[Verse 1]\n",
      "Do you find\n",
      "It gets a little easier each time you make it disappear?\n",
      "Oh fools, the magician bends the rules\n",
      "As the crowd watches his every...\n"
     ]
    }
   ],
   "source": [
    "from bs4 import BeautifulSoup\n",
    "import re\n",
    "URL = 'https://genius.com/Andy-shauf-the-magician-lyrics'\n",
    "page = requests.get(URL)    \n",
    "html = BeautifulSoup(page.text, \"html.parser\") # Extract the page's HTML as a string\n",
    "\n",
    "# Scrape the song lyrics from the HTML\n",
    "lyrics = html.find(\"div\", class_=\"lyrics\").get_text().encode('ascii','ignore')\n",
    "# lyrics = re.sub('\\[.*\\]','',lyrics) # Remove [Verse] and [Bridge] stuff\n",
    "# lyrics = re.sub('\\n{2}','',lyrics)  # Remove gaps between verses        \n",
    "# lyrics = str(lyrics).strip('\\n')\n",
    "print(lyrics[:150]+'...')"
   ]
  },
  {
   "cell_type": "markdown",
   "metadata": {},
   "source": [
    "## Python wrapper ##\n",
    "You may need to run this code from the Terminal after cloning the repo\n",
    "https://github.com/johnwmillr/geniusapi"
   ]
  },
  {
   "cell_type": "code",
   "execution_count": 16,
   "metadata": {},
   "outputs": [
    {
     "ename": "ModuleNotFoundError",
     "evalue": "No module named 'genius'",
     "output_type": "error",
     "traceback": [
      "\u001b[1;31m---------------------------------------------------------------------------\u001b[0m",
      "\u001b[1;31mModuleNotFoundError\u001b[0m                       Traceback (most recent call last)",
      "\u001b[1;32m<ipython-input-16-5043cf29d5a6>\u001b[0m in \u001b[0;36m<module>\u001b[1;34m\u001b[0m\n\u001b[0;32m      1\u001b[0m \u001b[1;31m# Create an instance of the API interface\u001b[0m\u001b[1;33m\u001b[0m\u001b[1;33m\u001b[0m\u001b[1;33m\u001b[0m\u001b[0m\n\u001b[1;32m----> 2\u001b[1;33m \u001b[1;32mimport\u001b[0m \u001b[0mgenius\u001b[0m\u001b[1;33m\u001b[0m\u001b[1;33m\u001b[0m\u001b[0m\n\u001b[0m\u001b[0;32m      3\u001b[0m \u001b[0mapi\u001b[0m \u001b[1;33m=\u001b[0m \u001b[0mgenius\u001b[0m\u001b[1;33m.\u001b[0m\u001b[0mGenius\u001b[0m\u001b[1;33m(\u001b[0m\u001b[1;33m)\u001b[0m\u001b[1;33m\u001b[0m\u001b[1;33m\u001b[0m\u001b[0m\n",
      "\u001b[1;31mModuleNotFoundError\u001b[0m: No module named 'genius'"
     ]
    }
   ],
   "source": [
    "# Create an instance of the API interface\n",
    "import genius\n",
    "api = genius.Genius()"
   ]
  },
  {
   "cell_type": "code",
   "execution_count": 18,
   "metadata": {},
   "outputs": [
    {
     "ename": "NameError",
     "evalue": "name 'api' is not defined",
     "output_type": "error",
     "traceback": [
      "\u001b[1;31m---------------------------------------------------------------------------\u001b[0m",
      "\u001b[1;31mNameError\u001b[0m                                 Traceback (most recent call last)",
      "\u001b[1;32m<ipython-input-18-d3d701c5db56>\u001b[0m in \u001b[0;36m<module>\u001b[1;34m\u001b[0m\n\u001b[0;32m      1\u001b[0m \u001b[1;31m# Search for an artist\u001b[0m\u001b[1;33m\u001b[0m\u001b[1;33m\u001b[0m\u001b[1;33m\u001b[0m\u001b[0m\n\u001b[1;32m----> 2\u001b[1;33m \u001b[0martist\u001b[0m \u001b[1;33m=\u001b[0m \u001b[0mapi\u001b[0m\u001b[1;33m.\u001b[0m\u001b[0msearch_artist\u001b[0m\u001b[1;33m(\u001b[0m\u001b[1;34m'Andy Shauf'\u001b[0m\u001b[1;33m,\u001b[0m \u001b[0mmax_songs\u001b[0m\u001b[1;33m=\u001b[0m\u001b[1;36m5\u001b[0m\u001b[1;33m)\u001b[0m\u001b[1;33m\u001b[0m\u001b[1;33m\u001b[0m\u001b[0m\n\u001b[0m\u001b[0;32m      3\u001b[0m \u001b[0mprint\u001b[0m\u001b[1;33m(\u001b[0m\u001b[0martist\u001b[0m\u001b[1;33m)\u001b[0m\u001b[1;33m\u001b[0m\u001b[1;33m\u001b[0m\u001b[0m\n",
      "\u001b[1;31mNameError\u001b[0m: name 'api' is not defined"
     ]
    }
   ],
   "source": [
    "# Search for an artist\n",
    "artist = api.search_artist('Andy Shauf', max_songs=5)\n",
    "print(artist)"
   ]
  },
  {
   "cell_type": "code",
   "execution_count": null,
   "metadata": {
    "collapsed": true
   },
   "outputs": [],
   "source": [
    "# Search for a specific song\n",
    "song = G.search_song('Wendell Walker', artist.name)\n",
    "artist.add_song(song)\n",
    "print(artist)\n",
    "print(artist.songs[0])"
   ]
  }
 ],
 "metadata": {
  "kernelspec": {
   "display_name": "Python 3",
   "language": "python",
   "name": "python3"
  },
  "language_info": {
   "codemirror_mode": {
    "name": "ipython",
    "version": 3
   },
   "file_extension": ".py",
   "mimetype": "text/x-python",
   "name": "python",
   "nbconvert_exporter": "python",
   "pygments_lexer": "ipython3",
   "version": "3.7.4"
  }
 },
 "nbformat": 4,
 "nbformat_minor": 2
}
